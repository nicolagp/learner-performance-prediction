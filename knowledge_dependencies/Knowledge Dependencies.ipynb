{
 "cells": [
  {
   "cell_type": "code",
   "execution_count": 11,
   "metadata": {},
   "outputs": [],
   "source": [
    "import pandas as pd\n",
    "import numpy as np"
   ]
  },
  {
   "cell_type": "code",
   "execution_count": 12,
   "metadata": {},
   "outputs": [
    {
     "data": {
      "text/html": [
       "<div>\n",
       "<style scoped>\n",
       "    .dataframe tbody tr th:only-of-type {\n",
       "        vertical-align: middle;\n",
       "    }\n",
       "\n",
       "    .dataframe tbody tr th {\n",
       "        vertical-align: top;\n",
       "    }\n",
       "\n",
       "    .dataframe thead th {\n",
       "        text-align: right;\n",
       "    }\n",
       "</style>\n",
       "<table border=\"1\" class=\"dataframe\">\n",
       "  <thead>\n",
       "    <tr style=\"text-align: right;\">\n",
       "      <th></th>\n",
       "      <th>user_id</th>\n",
       "      <th>item_id</th>\n",
       "      <th>timestamp</th>\n",
       "      <th>correct</th>\n",
       "      <th>skill_id</th>\n",
       "      <th>DKT2</th>\n",
       "    </tr>\n",
       "  </thead>\n",
       "  <tbody>\n",
       "    <tr>\n",
       "      <th>0</th>\n",
       "      <td>27137</td>\n",
       "      <td>1</td>\n",
       "      <td>0</td>\n",
       "      <td>1</td>\n",
       "      <td>0</td>\n",
       "      <td>0.547829</td>\n",
       "    </tr>\n",
       "    <tr>\n",
       "      <th>1</th>\n",
       "      <td>27137</td>\n",
       "      <td>16</td>\n",
       "      <td>0</td>\n",
       "      <td>0</td>\n",
       "      <td>0</td>\n",
       "      <td>0.139495</td>\n",
       "    </tr>\n",
       "    <tr>\n",
       "      <th>2</th>\n",
       "      <td>27137</td>\n",
       "      <td>27</td>\n",
       "      <td>0</td>\n",
       "      <td>0</td>\n",
       "      <td>0</td>\n",
       "      <td>0.490726</td>\n",
       "    </tr>\n",
       "    <tr>\n",
       "      <th>3</th>\n",
       "      <td>27137</td>\n",
       "      <td>33</td>\n",
       "      <td>0</td>\n",
       "      <td>1</td>\n",
       "      <td>0</td>\n",
       "      <td>0.658095</td>\n",
       "    </tr>\n",
       "    <tr>\n",
       "      <th>4</th>\n",
       "      <td>27137</td>\n",
       "      <td>13</td>\n",
       "      <td>0</td>\n",
       "      <td>1</td>\n",
       "      <td>0</td>\n",
       "      <td>0.363106</td>\n",
       "    </tr>\n",
       "  </tbody>\n",
       "</table>\n",
       "</div>"
      ],
      "text/plain": [
       "   user_id  item_id  timestamp  correct  skill_id      DKT2\n",
       "0    27137        1          0        1         0  0.547829\n",
       "1    27137       16          0        0         0  0.139495\n",
       "2    27137       27          0        0         0  0.490726\n",
       "3    27137       33          0        1         0  0.658095\n",
       "4    27137       13          0        1         0  0.363106"
      ]
     },
     "execution_count": 12,
     "metadata": {},
     "output_type": "execute_result"
    }
   ],
   "source": [
    "filename = \"/home/nicolagp/repos/learner-performance-prediction/data/2015_CN_AZUL/preprocessed_data_test.csv\"\n",
    "df = pd.read_csv(filename, delimiter=\"\\t\")\n",
    "df.head()"
   ]
  },
  {
   "cell_type": "markdown",
   "metadata": {},
   "source": [
    "# Defining Influence\n",
    "According to Deep Knowledge Tracing, we can define an influence $J_{i,j}$ to every pair of exercises $i, j$:\n",
    "\n",
    "$$J_{i,j} = \\frac{y(i|j)}{\\sum_{k} y(i|k)}$$"
   ]
  },
  {
   "cell_type": "markdown",
   "metadata": {},
   "source": [
    "# Calculating influences"
   ]
  },
  {
   "cell_type": "code",
   "execution_count": 76,
   "metadata": {},
   "outputs": [],
   "source": [
    "def y(i, j):\n",
    "    \"\"\"\n",
    "    returns y(i|j), the assigned probability of getting i right, given that got j right\n",
    "    \"\"\"    \n",
    "    # students who answered j correctly\n",
    "    given_j = df.loc[(df[\"item_id\"]==j) & (df[\"correct\"]== 1)][\"user_id\"].values\n",
    "    \n",
    "    # mean of assigned probability of getting i correct\n",
    "    return df.loc[(df[\"user_id\"].isin(given_j)) & (df[\"item_id\"]==i)][\"DKT2\"].mean()\n",
    "\n",
    "def influence1(i, j):\n",
    "    \"\"\"\n",
    "    returns J_i,j, defined above\n",
    "    \"\"\"\n",
    "    return y(i,j) / sum([y(i,k) for k in range(1, 46)])\n",
    "\n",
    "def get_pairs1(n):\n",
    "    \"\"\"\n",
    "    return an nxn matrix of all pairs of questions 1...n\n",
    "    \"\"\"\n",
    "    pairs = np.zeros((n,n))\n",
    "    for i in range(n):\n",
    "        for j in range(n):\n",
    "            pairs[i,j] = influence1(i+1,j+1)\n",
    "    return pairs"
   ]
  },
  {
   "cell_type": "code",
   "execution_count": 111,
   "metadata": {},
   "outputs": [],
   "source": [
    "def get_Ycol(j):\n",
    "    # students who answered j correctly\n",
    "    given_j = df.loc[(df[\"item_id\"]==j) & (df[\"correct\"]== 1)][\"user_id\"].values\n",
    "    a = df.loc[(df[\"user_id\"].isin(given_j))].groupby(\"item_id\")[\"DKT2\"].mean()\n",
    "    return a\n",
    "\n",
    "def get_Y():\n",
    "    \"\"\"\n",
    "    returns a matrix of Y_i,j = y(i|j) for i,j in 1...n\n",
    "    \"\"\"\n",
    "    Y = np.zeros((45,45))\n",
    "    for j in range(45):\n",
    "        Y[:,j] = get_Ycol(j+1)\n",
    "    return Y\n",
    "    \n",
    "def get_pairs2(n):\n",
    "    \"\"\"\n",
    "    return an nxn matrix of all pairs of questions 1...n\n",
    "    \"\"\"\n",
    "    Y = get_Y()\n",
    "    pairs = np.zeros((n, n))\n",
    "    rowsums = Y.sum(axis=1)\n",
    "    for i in range(n):\n",
    "        for j in range(n):\n",
    "            pairs[i,j] = Y[i,j]/rowsums[i]\n",
    "    return pairs"
   ]
  },
  {
   "cell_type": "code",
   "execution_count": 122,
   "metadata": {},
   "outputs": [
    {
     "name": "stdout",
     "output_type": "stream",
     "text": [
      "11min 31s ± 1min 24s per loop (mean ± std. dev. of 7 runs, 1 loop each)\n"
     ]
    }
   ],
   "source": [
    "%timeit get_pairs1(45)"
   ]
  },
  {
   "cell_type": "code",
   "execution_count": 121,
   "metadata": {},
   "outputs": [
    {
     "name": "stdout",
     "output_type": "stream",
     "text": [
      "580 ms ± 16.7 ms per loop (mean ± std. dev. of 7 runs, 1 loop each)\n"
     ]
    }
   ],
   "source": [
    "%timeit get_pairs2(45)"
   ]
  },
  {
   "cell_type": "code",
   "execution_count": 125,
   "metadata": {},
   "outputs": [
    {
     "name": "stdout",
     "output_type": "stream",
     "text": [
      "get_pairs2 is 1190x faster than get_pairs1\n"
     ]
    }
   ],
   "source": [
    "print(\"get_pairs2 is {}x faster than get_pairs1\".format(round(11.5*60/0.580)))"
   ]
  },
  {
   "cell_type": "markdown",
   "metadata": {},
   "source": [
    "### Calculating influences over the possible pairs"
   ]
  },
  {
   "cell_type": "code",
   "execution_count": 105,
   "metadata": {},
   "outputs": [
    {
     "name": "stdout",
     "output_type": "stream",
     "text": [
      "404 ms ± 196 ms per loop (mean ± std. dev. of 7 runs, 1 loop each)\n"
     ]
    }
   ],
   "source": [
    "%timeit influence(1,2)"
   ]
  },
  {
   "cell_type": "code",
   "execution_count": 107,
   "metadata": {},
   "outputs": [
    {
     "name": "stdout",
     "output_type": "stream",
     "text": [
      "Calculated 0/100 pairs\n",
      "Calculated 20/100 pairs\n",
      "Calculated 40/100 pairs\n",
      "Calculated 60/100 pairs\n",
      "Calculated 80/100 pairs\n"
     ]
    }
   ],
   "source": [
    "pairs_10 = np.zeros((10,10))\n",
    "count = 0\n",
    "total = 10*10\n",
    "for i in range(10):\n",
    "    for j in range(10):\n",
    "        if count % 20 == 0:\n",
    "            print(\"Calculated {}/{} pairs\".format(count, total))\n",
    "        pairs_10[i,j] = influence(i+1,j+1)\n",
    "        count += 1"
   ]
  },
  {
   "cell_type": "code",
   "execution_count": 109,
   "metadata": {
    "scrolled": true
   },
   "outputs": [
    {
     "name": "stdout",
     "output_type": "stream",
     "text": [
      "Calculated 0/2025 pairs\n",
      "Calculated 20/2025 pairs\n",
      "Calculated 40/2025 pairs\n",
      "Calculated 60/2025 pairs\n",
      "Calculated 80/2025 pairs\n",
      "Calculated 100/2025 pairs\n",
      "Calculated 120/2025 pairs\n",
      "Calculated 140/2025 pairs\n",
      "Calculated 160/2025 pairs\n",
      "Calculated 180/2025 pairs\n",
      "Calculated 200/2025 pairs\n",
      "Calculated 220/2025 pairs\n",
      "Calculated 240/2025 pairs\n",
      "Calculated 260/2025 pairs\n",
      "Calculated 280/2025 pairs\n",
      "Calculated 300/2025 pairs\n",
      "Calculated 320/2025 pairs\n",
      "Calculated 340/2025 pairs\n",
      "Calculated 360/2025 pairs\n",
      "Calculated 380/2025 pairs\n",
      "Calculated 400/2025 pairs\n",
      "Calculated 420/2025 pairs\n",
      "Calculated 440/2025 pairs\n",
      "Calculated 460/2025 pairs\n",
      "Calculated 480/2025 pairs\n",
      "Calculated 500/2025 pairs\n",
      "Calculated 520/2025 pairs\n",
      "Calculated 540/2025 pairs\n",
      "Calculated 560/2025 pairs\n",
      "Calculated 580/2025 pairs\n",
      "Calculated 600/2025 pairs\n",
      "Calculated 620/2025 pairs\n",
      "Calculated 640/2025 pairs\n",
      "Calculated 660/2025 pairs\n",
      "Calculated 680/2025 pairs\n",
      "Calculated 700/2025 pairs\n",
      "Calculated 720/2025 pairs\n",
      "Calculated 740/2025 pairs\n",
      "Calculated 760/2025 pairs\n",
      "Calculated 780/2025 pairs\n",
      "Calculated 800/2025 pairs\n",
      "Calculated 820/2025 pairs\n",
      "Calculated 840/2025 pairs\n",
      "Calculated 860/2025 pairs\n",
      "Calculated 880/2025 pairs\n",
      "Calculated 900/2025 pairs\n",
      "Calculated 920/2025 pairs\n",
      "Calculated 940/2025 pairs\n",
      "Calculated 960/2025 pairs\n",
      "Calculated 980/2025 pairs\n",
      "Calculated 1000/2025 pairs\n",
      "Calculated 1020/2025 pairs\n",
      "Calculated 1040/2025 pairs\n",
      "Calculated 1060/2025 pairs\n",
      "Calculated 1080/2025 pairs\n",
      "Calculated 1100/2025 pairs\n",
      "Calculated 1120/2025 pairs\n",
      "Calculated 1140/2025 pairs\n",
      "Calculated 1160/2025 pairs\n",
      "Calculated 1180/2025 pairs\n",
      "Calculated 1200/2025 pairs\n",
      "Calculated 1220/2025 pairs\n",
      "Calculated 1240/2025 pairs\n",
      "Calculated 1260/2025 pairs\n",
      "Calculated 1280/2025 pairs\n",
      "Calculated 1300/2025 pairs\n",
      "Calculated 1320/2025 pairs\n",
      "Calculated 1340/2025 pairs\n",
      "Calculated 1360/2025 pairs\n",
      "Calculated 1380/2025 pairs\n",
      "Calculated 1400/2025 pairs\n",
      "Calculated 1420/2025 pairs\n",
      "Calculated 1440/2025 pairs\n",
      "Calculated 1460/2025 pairs\n",
      "Calculated 1480/2025 pairs\n",
      "Calculated 1500/2025 pairs\n",
      "Calculated 1520/2025 pairs\n",
      "Calculated 1540/2025 pairs\n",
      "Calculated 1560/2025 pairs\n",
      "Calculated 1580/2025 pairs\n",
      "Calculated 1600/2025 pairs\n",
      "Calculated 1620/2025 pairs\n",
      "Calculated 1640/2025 pairs\n",
      "Calculated 1660/2025 pairs\n",
      "Calculated 1680/2025 pairs\n",
      "Calculated 1700/2025 pairs\n",
      "Calculated 1720/2025 pairs\n",
      "Calculated 1740/2025 pairs\n",
      "Calculated 1760/2025 pairs\n",
      "Calculated 1780/2025 pairs\n",
      "Calculated 1800/2025 pairs\n",
      "Calculated 1820/2025 pairs\n",
      "Calculated 1840/2025 pairs\n",
      "Calculated 1860/2025 pairs\n",
      "Calculated 1880/2025 pairs\n",
      "Calculated 1900/2025 pairs\n",
      "Calculated 1920/2025 pairs\n",
      "Calculated 1940/2025 pairs\n",
      "Calculated 1960/2025 pairs\n",
      "Calculated 1980/2025 pairs\n",
      "Calculated 2000/2025 pairs\n",
      "Calculated 2020/2025 pairs\n"
     ]
    }
   ],
   "source": [
    "pairs = np.zeros((45, 45))\n",
    "count = 0\n",
    "total = 45*45\n",
    "for i in range(45):\n",
    "    for j in range(45):\n",
    "        if count % 20 == 0:\n",
    "            print(\"Calculated {}/{} pairs\".format(count, total))\n",
    "        pairs[i,j] = influence(i+1,j+1)\n",
    "        count += 1"
   ]
  },
  {
   "cell_type": "code",
   "execution_count": 112,
   "metadata": {},
   "outputs": [],
   "source": [
    "# save pairs object\n",
    "import pickle\n",
    "pickle.dump(pairs, open(\"influence_pairs.pkl\", \"wb\"))"
   ]
  },
  {
   "cell_type": "markdown",
   "metadata": {},
   "source": [
    "### Visualizing pairs"
   ]
  },
  {
   "cell_type": "code",
   "execution_count": 110,
   "metadata": {},
   "outputs": [],
   "source": [
    "import seaborn as sns\n",
    "import matplotlib.pyplot as plt"
   ]
  },
  {
   "cell_type": "code",
   "execution_count": 122,
   "metadata": {},
   "outputs": [
    {
     "data": {
      "image/png": "[encoded data removed]",
      "text/plain": [
       "<Figure size 432x288 with 2 Axes>"
      ]
     },
     "metadata": {
      "needs_background": "light"
     },
     "output_type": "display_data"
    }
   ],
   "source": [
    "ax = sns.heatmap(pairs, cmap=\"winter\")\n",
    "plt.title(\"Dependência de questões ENEM 2015 CN Azul \\n (y depende de x?)\")\n",
    "plt.xlabel(\"Pré Requisito\")\n",
    "plt.ylabel(\"Questão\")\n",
    "plt.savefig(\"influence_pairs.jpg\", dpi=400)\n",
    "plt.show()"
   ]
  }
 ],
 "metadata": {
  "kernelspec": {
   "display_name": "Python 3",
   "language": "python",
   "name": "python3"
  },
  "language_info": {
   "codemirror_mode": {
    "name": "ipython",
    "version": 3
   },
   "file_extension": ".py",
   "mimetype": "text/x-python",
   "name": "python",
   "nbconvert_exporter": "python",
   "pygments_lexer": "ipython3",
   "version": "3.7.3"
  }
 },
 "nbformat": 4,
 "nbformat_minor": 4
}

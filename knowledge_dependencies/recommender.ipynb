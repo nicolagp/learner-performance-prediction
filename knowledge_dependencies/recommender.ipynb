{
 "cells": [
  {
   "cell_type": "code",
   "execution_count": 7,
   "metadata": {},
   "outputs": [],
   "source": [
    "import torch\n",
    "import os\n",
    "import pandas as pd\n",
    "from model_dkt2 import DKT2\n",
    "from random import shuffle\n",
    "from torch.nn.utils.rnn import pad_sequence\n",
    "import numpy as np\n",
    "\n",
    "class Recommender():\n",
    "    \"\"\"\n",
    "    This class defines an interface to interact with a trained DKT Model and\n",
    "    generate skill recommendations for practice, given a student's answers.\n",
    "    \"\"\"\n",
    "\n",
    "    def __init__(self, area: str, model_path: str):\n",
    "        \"\"\"\n",
    "        area: code for area of knowledge\n",
    "        model_path: path to directory with saved models\n",
    "        \"\"\"\n",
    "        self.area = area\n",
    "        self.model_path = model_path\n",
    "\n",
    "        # load model for prediction\n",
    "        self.model = self.__load_model(self.area, self.model_path)\n",
    "\n",
    "    \n",
    "    def __load_model(self, area: str, model_path: str) -> DKT2:\n",
    "        \"\"\"\n",
    "        Returns a DKT model instance to\n",
    "        \"\"\"\n",
    "        # return torch.load(os.path.join(model_path, area))\n",
    "\n",
    "        # hardcoded for now\n",
    "        return torch.load(os.path.join(model_path, \"2015_CN_AZUL\"))\n",
    "    \n",
    "    def __prepare_data(self, df: pd.DataFrame, randomize=True):\n",
    "        \"\"\"\n",
    "        Function embed the data into input tensors for the model\n",
    "        df: standard data format for the algorithm (reference data folder)\n",
    "        This function was taken and adapted from \"train_dkt2.py\" \n",
    "        \"\"\"\n",
    "        item_ids = [torch.tensor(u_df[\"item_id\"].values, dtype=torch.long)\n",
    "                for _, u_df in df.groupby(\"user_id\")]\n",
    "        skill_ids = [torch.tensor(u_df[\"skill_id\"].values, dtype=torch.long)\n",
    "                    for _, u_df in df.groupby(\"user_id\")]\n",
    "        labels = [torch.tensor(u_df[\"correct\"].values, dtype=torch.long)\n",
    "                for _, u_df in df.groupby(\"user_id\")]\n",
    "\n",
    "        item_inputs = [torch.cat((torch.zeros(1, dtype=torch.long), i))[:-1] for i in item_ids]\n",
    "        skill_inputs = [torch.cat((torch.zeros(1, dtype=torch.long), s))[:-1] for s in skill_ids]\n",
    "        label_inputs = [torch.cat((torch.zeros(1, dtype=torch.long), l))[:-1] for l in labels]\n",
    "\n",
    "        data = list(zip(item_inputs, skill_inputs, label_inputs, item_ids, skill_ids, labels))\n",
    "        if randomize:\n",
    "            shuffle(data)\n",
    "\n",
    "        return data\n",
    "\n",
    "\n",
    "    def __prepare_batches(self, data, batch_size, randomize=True):\n",
    "        \"\"\"\n",
    "        * Taken from train_dkt2.py\n",
    "        Prepare batches grouping padded sequences.\n",
    "\n",
    "        Arguments:\n",
    "            data (list of lists of torch Tensor): output by get_data\n",
    "            batch_size (int): number of sequences per batch\n",
    "\n",
    "        Output:\n",
    "            batches (list of lists of torch Tensor)\n",
    "        \"\"\"\n",
    "        if randomize:\n",
    "            shuffle(data)\n",
    "        batches = []\n",
    "\n",
    "        for k in range(0, len(data), batch_size):\n",
    "            batch = data[k:k + batch_size]\n",
    "            seq_lists = list(zip(*batch))\n",
    "            inputs_and_ids = [pad_sequence(seqs, batch_first=True, padding_value=0)\n",
    "                            for seqs in seq_lists[:-1]]\n",
    "            labels = pad_sequence(seq_lists[-1], batch_first=True, padding_value=-1)  # Pad labels with -1\n",
    "            batches.append([*inputs_and_ids, labels])\n",
    "\n",
    "        return batches\n",
    "\n",
    "\n",
    "    def predict(self, df):\n",
    "        \"\"\"\n",
    "        Predicts dkt scores for a sequence of questions/answers\n",
    "        df: pandas DataFrame containing the desired data to predict\n",
    "        returns: \n",
    "        \"\"\"\n",
    "        # get data and prepare batches\n",
    "        data = self.__prepare_data(df)\n",
    "        batches = self.__prepare_batches(data, 16)\n",
    "\n",
    "        # evaluate from model\n",
    "        self.model.eval()\n",
    "        test_preds = np.empty(0)\n",
    "        for item_inputs, skill_inputs, label_inputs, item_ids, skill_ids, labels in batches:\n",
    "            with torch.no_grad():\n",
    "                item_inputs = item_inputs.cuda()\n",
    "                skill_inputs = skill_inputs.cuda()\n",
    "                label_inputs = label_inputs.cuda()\n",
    "                item_ids = item_ids.cuda()\n",
    "                skill_ids = skill_ids.cuda()\n",
    "                preds = self.model(item_inputs, skill_inputs, label_inputs, item_ids, skill_ids)\n",
    "                preds = torch.sigmoid(preds[labels >= 0]).cpu().numpy()\n",
    "                test_preds = np.concatenate([test_preds, preds])\n",
    "\n",
    "        return test_preds\n",
    "\n"
   ]
  },
  {
   "cell_type": "code",
   "execution_count": 8,
   "metadata": {},
   "outputs": [
    {
     "output_type": "error",
     "ename": "RuntimeError",
     "evalue": "cuda runtime error (700) : an illegal memory access was encountered at /pytorch/torch/csrc/generic/serialization.cpp:153",
     "traceback": [
      "\u001b[0;31m---------------------------------------------------------------------------\u001b[0m",
      "\u001b[0;31mRuntimeError\u001b[0m                              Traceback (most recent call last)",
      "\u001b[0;32m<ipython-input-8-41eae887c097>\u001b[0m in \u001b[0;36m<module>\u001b[0;34m\u001b[0m\n\u001b[0;32m----> 1\u001b[0;31m \u001b[0mr\u001b[0m \u001b[0;34m=\u001b[0m \u001b[0mRecommender\u001b[0m\u001b[0;34m(\u001b[0m\u001b[0;34m\"CN\"\u001b[0m\u001b[0;34m,\u001b[0m \u001b[0;34m\"./save/dkt\"\u001b[0m\u001b[0;34m)\u001b[0m\u001b[0;34m\u001b[0m\u001b[0;34m\u001b[0m\u001b[0m\n\u001b[0m\u001b[1;32m      2\u001b[0m \u001b[0mdf\u001b[0m \u001b[0;34m=\u001b[0m \u001b[0mpd\u001b[0m\u001b[0;34m.\u001b[0m\u001b[0mread_csv\u001b[0m\u001b[0;34m(\u001b[0m\u001b[0;34m\"data/small/preprocessed_data.csv\"\u001b[0m\u001b[0;34m,\u001b[0m \u001b[0mdelimiter\u001b[0m\u001b[0;34m=\u001b[0m\u001b[0;34m\"\\t\"\u001b[0m\u001b[0;34m)\u001b[0m\u001b[0;34m\u001b[0m\u001b[0;34m\u001b[0m\u001b[0m\n",
      "\u001b[0;32m<ipython-input-7-0e40744f2473>\u001b[0m in \u001b[0;36m__init__\u001b[0;34m(self, area, model_path)\u001b[0m\n\u001b[1;32m     22\u001b[0m \u001b[0;34m\u001b[0m\u001b[0m\n\u001b[1;32m     23\u001b[0m         \u001b[0;31m# load model for prediction\u001b[0m\u001b[0;34m\u001b[0m\u001b[0;34m\u001b[0m\u001b[0;34m\u001b[0m\u001b[0m\n\u001b[0;32m---> 24\u001b[0;31m         \u001b[0mself\u001b[0m\u001b[0;34m.\u001b[0m\u001b[0mmodel\u001b[0m \u001b[0;34m=\u001b[0m \u001b[0mself\u001b[0m\u001b[0;34m.\u001b[0m\u001b[0m__load_model\u001b[0m\u001b[0;34m(\u001b[0m\u001b[0mself\u001b[0m\u001b[0;34m.\u001b[0m\u001b[0marea\u001b[0m\u001b[0;34m,\u001b[0m \u001b[0mself\u001b[0m\u001b[0;34m.\u001b[0m\u001b[0mmodel_path\u001b[0m\u001b[0;34m)\u001b[0m\u001b[0;34m\u001b[0m\u001b[0;34m\u001b[0m\u001b[0m\n\u001b[0m\u001b[1;32m     25\u001b[0m \u001b[0;34m\u001b[0m\u001b[0m\n\u001b[1;32m     26\u001b[0m \u001b[0;34m\u001b[0m\u001b[0m\n",
      "\u001b[0;32m<ipython-input-7-0e40744f2473>\u001b[0m in \u001b[0;36m__load_model\u001b[0;34m(self, area, model_path)\u001b[0m\n\u001b[1;32m     32\u001b[0m \u001b[0;34m\u001b[0m\u001b[0m\n\u001b[1;32m     33\u001b[0m         \u001b[0;31m# hardcoded for now\u001b[0m\u001b[0;34m\u001b[0m\u001b[0;34m\u001b[0m\u001b[0;34m\u001b[0m\u001b[0m\n\u001b[0;32m---> 34\u001b[0;31m         \u001b[0;32mreturn\u001b[0m \u001b[0mtorch\u001b[0m\u001b[0;34m.\u001b[0m\u001b[0mload\u001b[0m\u001b[0;34m(\u001b[0m\u001b[0mos\u001b[0m\u001b[0;34m.\u001b[0m\u001b[0mpath\u001b[0m\u001b[0;34m.\u001b[0m\u001b[0mjoin\u001b[0m\u001b[0;34m(\u001b[0m\u001b[0mmodel_path\u001b[0m\u001b[0;34m,\u001b[0m \u001b[0;34m\"2015_CN_AZUL\"\u001b[0m\u001b[0;34m)\u001b[0m\u001b[0;34m)\u001b[0m\u001b[0;34m\u001b[0m\u001b[0;34m\u001b[0m\u001b[0m\n\u001b[0m\u001b[1;32m     35\u001b[0m \u001b[0;34m\u001b[0m\u001b[0m\n\u001b[1;32m     36\u001b[0m     \u001b[0;32mdef\u001b[0m \u001b[0m__prepare_data\u001b[0m\u001b[0;34m(\u001b[0m\u001b[0mself\u001b[0m\u001b[0;34m,\u001b[0m \u001b[0mdf\u001b[0m\u001b[0;34m:\u001b[0m \u001b[0mpd\u001b[0m\u001b[0;34m.\u001b[0m\u001b[0mDataFrame\u001b[0m\u001b[0;34m,\u001b[0m \u001b[0mrandomize\u001b[0m\u001b[0;34m=\u001b[0m\u001b[0;32mTrue\u001b[0m\u001b[0;34m)\u001b[0m\u001b[0;34m:\u001b[0m\u001b[0;34m\u001b[0m\u001b[0;34m\u001b[0m\u001b[0m\n",
      "\u001b[0;32m~/miniconda3/envs/aio/lib/python3.7/site-packages/torch/serialization.py\u001b[0m in \u001b[0;36mload\u001b[0;34m(f, map_location, pickle_module, **pickle_load_args)\u001b[0m\n\u001b[1;32m    591\u001b[0m                     \u001b[0;32mreturn\u001b[0m \u001b[0mtorch\u001b[0m\u001b[0;34m.\u001b[0m\u001b[0mjit\u001b[0m\u001b[0;34m.\u001b[0m\u001b[0mload\u001b[0m\u001b[0;34m(\u001b[0m\u001b[0mf\u001b[0m\u001b[0;34m)\u001b[0m\u001b[0;34m\u001b[0m\u001b[0;34m\u001b[0m\u001b[0m\n\u001b[1;32m    592\u001b[0m                 \u001b[0;32mreturn\u001b[0m \u001b[0m_load\u001b[0m\u001b[0;34m(\u001b[0m\u001b[0mopened_zipfile\u001b[0m\u001b[0;34m,\u001b[0m \u001b[0mmap_location\u001b[0m\u001b[0;34m,\u001b[0m \u001b[0mpickle_module\u001b[0m\u001b[0;34m,\u001b[0m \u001b[0;34m**\u001b[0m\u001b[0mpickle_load_args\u001b[0m\u001b[0;34m)\u001b[0m\u001b[0;34m\u001b[0m\u001b[0;34m\u001b[0m\u001b[0m\n\u001b[0;32m--> 593\u001b[0;31m         \u001b[0;32mreturn\u001b[0m \u001b[0m_legacy_load\u001b[0m\u001b[0;34m(\u001b[0m\u001b[0mopened_file\u001b[0m\u001b[0;34m,\u001b[0m \u001b[0mmap_location\u001b[0m\u001b[0;34m,\u001b[0m \u001b[0mpickle_module\u001b[0m\u001b[0;34m,\u001b[0m \u001b[0;34m**\u001b[0m\u001b[0mpickle_load_args\u001b[0m\u001b[0;34m)\u001b[0m\u001b[0;34m\u001b[0m\u001b[0;34m\u001b[0m\u001b[0m\n\u001b[0m\u001b[1;32m    594\u001b[0m \u001b[0;34m\u001b[0m\u001b[0m\n\u001b[1;32m    595\u001b[0m \u001b[0;34m\u001b[0m\u001b[0m\n",
      "\u001b[0;32m~/miniconda3/envs/aio/lib/python3.7/site-packages/torch/serialization.py\u001b[0m in \u001b[0;36m_legacy_load\u001b[0;34m(f, map_location, pickle_module, **pickle_load_args)\u001b[0m\n\u001b[1;32m    778\u001b[0m     \u001b[0;32mfor\u001b[0m \u001b[0mkey\u001b[0m \u001b[0;32min\u001b[0m \u001b[0mdeserialized_storage_keys\u001b[0m\u001b[0;34m:\u001b[0m\u001b[0;34m\u001b[0m\u001b[0;34m\u001b[0m\u001b[0m\n\u001b[1;32m    779\u001b[0m         \u001b[0;32massert\u001b[0m \u001b[0mkey\u001b[0m \u001b[0;32min\u001b[0m \u001b[0mdeserialized_objects\u001b[0m\u001b[0;34m\u001b[0m\u001b[0;34m\u001b[0m\u001b[0m\n\u001b[0;32m--> 780\u001b[0;31m         \u001b[0mdeserialized_objects\u001b[0m\u001b[0;34m[\u001b[0m\u001b[0mkey\u001b[0m\u001b[0;34m]\u001b[0m\u001b[0;34m.\u001b[0m\u001b[0m_set_from_file\u001b[0m\u001b[0;34m(\u001b[0m\u001b[0mf\u001b[0m\u001b[0;34m,\u001b[0m \u001b[0moffset\u001b[0m\u001b[0;34m,\u001b[0m \u001b[0mf_should_read_directly\u001b[0m\u001b[0;34m)\u001b[0m\u001b[0;34m\u001b[0m\u001b[0;34m\u001b[0m\u001b[0m\n\u001b[0m\u001b[1;32m    781\u001b[0m         \u001b[0;32mif\u001b[0m \u001b[0moffset\u001b[0m \u001b[0;32mis\u001b[0m \u001b[0;32mnot\u001b[0m \u001b[0;32mNone\u001b[0m\u001b[0;34m:\u001b[0m\u001b[0;34m\u001b[0m\u001b[0;34m\u001b[0m\u001b[0m\n\u001b[1;32m    782\u001b[0m             \u001b[0moffset\u001b[0m \u001b[0;34m=\u001b[0m \u001b[0mf\u001b[0m\u001b[0;34m.\u001b[0m\u001b[0mtell\u001b[0m\u001b[0;34m(\u001b[0m\u001b[0;34m)\u001b[0m\u001b[0;34m\u001b[0m\u001b[0;34m\u001b[0m\u001b[0m\n",
      "\u001b[0;31mRuntimeError\u001b[0m: cuda runtime error (700) : an illegal memory access was encountered at /pytorch/torch/csrc/generic/serialization.cpp:153"
     ]
    }
   ],
   "source": [
    "r = Recommender(\"CN\", \"./save/dkt\")\n",
    "df = pd.read_csv(\"data/small/preprocessed_data.csv\", delimiter=\"\\t\")"
   ]
  },
  {
   "cell_type": "code",
   "execution_count": 6,
   "metadata": {
    "tags": []
   },
   "outputs": [
    {
     "output_type": "error",
     "ename": "RuntimeError",
     "evalue": "CUDA error: an illegal memory access was encountered",
     "traceback": [
      "\u001b[0;31m---------------------------------------------------------------------------\u001b[0m",
      "\u001b[0;31mRuntimeError\u001b[0m                              Traceback (most recent call last)",
      "\u001b[0;32m<ipython-input-6-261403e185b9>\u001b[0m in \u001b[0;36m<module>\u001b[0;34m\u001b[0m\n\u001b[0;32m----> 1\u001b[0;31m \u001b[0mpreds\u001b[0m \u001b[0;34m=\u001b[0m \u001b[0mr\u001b[0m\u001b[0;34m.\u001b[0m\u001b[0mpredict\u001b[0m\u001b[0;34m(\u001b[0m\u001b[0mdf\u001b[0m\u001b[0;34m)\u001b[0m\u001b[0;34m\u001b[0m\u001b[0;34m\u001b[0m\u001b[0m\n\u001b[0m\u001b[1;32m      2\u001b[0m \u001b[0mpreds\u001b[0m\u001b[0;34m\u001b[0m\u001b[0;34m\u001b[0m\u001b[0m\n",
      "\u001b[0;32m<ipython-input-1-e315eb1bdea1>\u001b[0m in \u001b[0;36mpredict\u001b[0;34m(self, df)\u001b[0m\n\u001b[1;32m    100\u001b[0m         \u001b[0;32mfor\u001b[0m \u001b[0mitem_inputs\u001b[0m\u001b[0;34m,\u001b[0m \u001b[0mskill_inputs\u001b[0m\u001b[0;34m,\u001b[0m \u001b[0mlabel_inputs\u001b[0m\u001b[0;34m,\u001b[0m \u001b[0mitem_ids\u001b[0m\u001b[0;34m,\u001b[0m \u001b[0mskill_ids\u001b[0m\u001b[0;34m,\u001b[0m \u001b[0mlabels\u001b[0m \u001b[0;32min\u001b[0m \u001b[0mbatches\u001b[0m\u001b[0;34m:\u001b[0m\u001b[0;34m\u001b[0m\u001b[0;34m\u001b[0m\u001b[0m\n\u001b[1;32m    101\u001b[0m             \u001b[0;32mwith\u001b[0m \u001b[0mtorch\u001b[0m\u001b[0;34m.\u001b[0m\u001b[0mno_grad\u001b[0m\u001b[0;34m(\u001b[0m\u001b[0;34m)\u001b[0m\u001b[0;34m:\u001b[0m\u001b[0;34m\u001b[0m\u001b[0;34m\u001b[0m\u001b[0m\n\u001b[0;32m--> 102\u001b[0;31m                 \u001b[0mitem_inputs\u001b[0m \u001b[0;34m=\u001b[0m \u001b[0mitem_inputs\u001b[0m\u001b[0;34m.\u001b[0m\u001b[0mcuda\u001b[0m\u001b[0;34m(\u001b[0m\u001b[0;34m)\u001b[0m\u001b[0;34m\u001b[0m\u001b[0;34m\u001b[0m\u001b[0m\n\u001b[0m\u001b[1;32m    103\u001b[0m                 \u001b[0mskill_inputs\u001b[0m \u001b[0;34m=\u001b[0m \u001b[0mskill_inputs\u001b[0m\u001b[0;34m.\u001b[0m\u001b[0mcuda\u001b[0m\u001b[0;34m(\u001b[0m\u001b[0;34m)\u001b[0m\u001b[0;34m\u001b[0m\u001b[0;34m\u001b[0m\u001b[0m\n\u001b[1;32m    104\u001b[0m                 \u001b[0mlabel_inputs\u001b[0m \u001b[0;34m=\u001b[0m \u001b[0mlabel_inputs\u001b[0m\u001b[0;34m.\u001b[0m\u001b[0mcuda\u001b[0m\u001b[0;34m(\u001b[0m\u001b[0;34m)\u001b[0m\u001b[0;34m\u001b[0m\u001b[0;34m\u001b[0m\u001b[0m\n",
      "\u001b[0;31mRuntimeError\u001b[0m: CUDA error: an illegal memory access was encountered"
     ]
    }
   ],
   "source": [
    "preds = r.predict(df)\n",
    "preds"
   ]
  },
  {
   "cell_type": "code",
   "execution_count": null,
   "metadata": {},
   "outputs": [],
   "source": []
  }
 ],
 "metadata": {
  "language_info": {
   "codemirror_mode": {
    "name": "ipython",
    "version": 3
   },
   "file_extension": ".py",
   "mimetype": "text/x-python",
   "name": "python",
   "nbconvert_exporter": "python",
   "pygments_lexer": "ipython3",
   "version": "3.7.3-final"
  },
  "orig_nbformat": 2,
  "kernelspec": {
   "name": "python37364bite6fc892ac4d7448c98dcc7f53ee64f93",
   "display_name": "Python 3.7.3 64-bit"
  }
 },
 "nbformat": 4,
 "nbformat_minor": 2
}
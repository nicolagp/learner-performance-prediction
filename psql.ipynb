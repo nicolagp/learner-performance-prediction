{
 "cells": [
  {
   "cell_type": "code",
   "execution_count": 1,
   "metadata": {},
   "outputs": [],
   "source": [
    "import psycopg2\n",
    "import pandas as pd\n",
    "import csv\n",
    "import DB_CONFIG"
   ]
  },
  {
   "cell_type": "markdown",
   "metadata": {},
   "source": [
    "### Create connection and cursor"
   ]
  },
  {
   "cell_type": "code",
   "execution_count": 2,
   "metadata": {},
   "outputs": [],
   "source": [
    "# conn = psycopg2.connect(host=\"localhost\", port = 5432, database=\"aio_enem\", user=\"nicolagp\", password=\"123\")\n",
    "conn = psycopg2.connect(host=DB_CONFIG.host,\n",
    "                            port = DB_CONFIG.port,\n",
    "                            database=DB_CONFIG.database,\n",
    "                            user=DB_CONFIG.user,\n",
    "                            password=DB_CONFIG.password)\n",
    "                            \n",
    "# Create a cursor object\n",
    "cur = conn.cursor()"
   ]
  },
  {
   "cell_type": "code",
   "execution_count": 58,
   "metadata": {},
   "outputs": [],
   "source": [
    "def get_students(n, conn):\n",
    "    q = f\"\"\"\n",
    "    SELECT id\n",
    "    FROM enem_student\n",
    "    ORDER BY RANDOM()\n",
    "    LIMIT {n};\n",
    "    \"\"\"\n",
    "    return list(pd.read_sql_query(q, conn)[\"id\"].values)\n",
    "students = get_students(10, conn)"
   ]
  },
  {
   "cell_type": "code",
   "execution_count": 44,
   "metadata": {},
   "outputs": [],
   "source": [
    "def get_question_ids(area, conn):\n",
    "    # get sub exams that are on a given area\n",
    "    q = \"\"\"\n",
    "    SELECT id\n",
    "    FROM enem_subexam\n",
    "    WHERE area = 'CN'\n",
    "    \"\"\"\n",
    "    se_ids = tuple(pd.read_sql_query(q, conn).values.flatten())\n",
    "\n",
    "    # get question ids from area\n",
    "    q = f\"\"\"\n",
    "        SELECT DISTINCT(inep_code)\n",
    "        FROM enem_subexamquestion\n",
    "            JOIN enem_question\n",
    "            ON enem_subexamquestion.question_id = enem_question.id\n",
    "        WHERE sub_exam_id IN {se_ids}\n",
    "        \"\"\"\n",
    "    return pd.read_sql_query(q, conn).values.flatten()"
   ]
  },
  {
   "cell_type": "code",
   "execution_count": 48,
   "metadata": {},
   "outputs": [],
   "source": [
    "inep_questions = get_question_ids(\"MT\", conn)"
   ]
  },
  {
   "cell_type": "code",
   "execution_count": 72,
   "metadata": {},
   "outputs": [
    {
     "output_type": "execute_result",
     "data": {
      "text/plain": "          correct  skill_id\ninep_code                  \n6584            D         6\n6781            D        20\n7217            E        24\n7222            B        24\n7507            E        20\n...           ...       ...\n97540           D        29\n97711           D         1\n97740           E        10\n97755           C         7\n97811           E        16\n\n[386 rows x 2 columns]",
      "text/html": "<div>\n<style scoped>\n    .dataframe tbody tr th:only-of-type {\n        vertical-align: middle;\n    }\n\n    .dataframe tbody tr th {\n        vertical-align: top;\n    }\n\n    .dataframe thead th {\n        text-align: right;\n    }\n</style>\n<table border=\"1\" class=\"dataframe\">\n  <thead>\n    <tr style=\"text-align: right;\">\n      <th></th>\n      <th>correct</th>\n      <th>skill_id</th>\n    </tr>\n    <tr>\n      <th>inep_code</th>\n      <th></th>\n      <th></th>\n    </tr>\n  </thead>\n  <tbody>\n    <tr>\n      <th>6584</th>\n      <td>D</td>\n      <td>6</td>\n    </tr>\n    <tr>\n      <th>6781</th>\n      <td>D</td>\n      <td>20</td>\n    </tr>\n    <tr>\n      <th>7217</th>\n      <td>E</td>\n      <td>24</td>\n    </tr>\n    <tr>\n      <th>7222</th>\n      <td>B</td>\n      <td>24</td>\n    </tr>\n    <tr>\n      <th>7507</th>\n      <td>E</td>\n      <td>20</td>\n    </tr>\n    <tr>\n      <th>...</th>\n      <td>...</td>\n      <td>...</td>\n    </tr>\n    <tr>\n      <th>97540</th>\n      <td>D</td>\n      <td>29</td>\n    </tr>\n    <tr>\n      <th>97711</th>\n      <td>D</td>\n      <td>1</td>\n    </tr>\n    <tr>\n      <th>97740</th>\n      <td>E</td>\n      <td>10</td>\n    </tr>\n    <tr>\n      <th>97755</th>\n      <td>C</td>\n      <td>7</td>\n    </tr>\n    <tr>\n      <th>97811</th>\n      <td>E</td>\n      <td>16</td>\n    </tr>\n  </tbody>\n</table>\n<p>386 rows × 2 columns</p>\n</div>"
     },
     "metadata": {},
     "execution_count": 72
    }
   ],
   "source": [
    "def get_answers(inep_code, conn):\n",
    "    q = f\"\"\"\n",
    "    SELECT inep_code, correct, skill_id\n",
    "    FROM enem_question\n",
    "    WHERE inep_code IN {tuple(inep_questions)}\n",
    "    \"\"\"\n",
    "    return pd.read_sql_query(q, conn).set_index(\"inep_code\")\n",
    "answers = get_answers(inep_questions, conn)\n",
    "answers"
   ]
  },
  {
   "cell_type": "code",
   "execution_count": 84,
   "metadata": {},
   "outputs": [
    {
     "output_type": "execute_result",
     "data": {
      "text/plain": "     student_id letter  inep_code  skill_id\n0       1366864      B      18231        14\n1       1366864      B      76032        23\n2       1366864      E       8757        19\n3       1366864      A      23921         7\n4       1366864      C      81780        18\n..          ...    ...        ...       ...\n445     9740488      C      25580        28\n446     9740488      E      10883         3\n447     9740488      A      83854         4\n448     9740488      D      27106         1\n449     9740488      E      26581        27\n\n[450 rows x 4 columns]",
      "text/html": "<div>\n<style scoped>\n    .dataframe tbody tr th:only-of-type {\n        vertical-align: middle;\n    }\n\n    .dataframe tbody tr th {\n        vertical-align: top;\n    }\n\n    .dataframe thead th {\n        text-align: right;\n    }\n</style>\n<table border=\"1\" class=\"dataframe\">\n  <thead>\n    <tr style=\"text-align: right;\">\n      <th></th>\n      <th>student_id</th>\n      <th>letter</th>\n      <th>inep_code</th>\n      <th>skill_id</th>\n    </tr>\n  </thead>\n  <tbody>\n    <tr>\n      <th>0</th>\n      <td>1366864</td>\n      <td>B</td>\n      <td>18231</td>\n      <td>14</td>\n    </tr>\n    <tr>\n      <th>1</th>\n      <td>1366864</td>\n      <td>B</td>\n      <td>76032</td>\n      <td>23</td>\n    </tr>\n    <tr>\n      <th>2</th>\n      <td>1366864</td>\n      <td>E</td>\n      <td>8757</td>\n      <td>19</td>\n    </tr>\n    <tr>\n      <th>3</th>\n      <td>1366864</td>\n      <td>A</td>\n      <td>23921</td>\n      <td>7</td>\n    </tr>\n    <tr>\n      <th>4</th>\n      <td>1366864</td>\n      <td>C</td>\n      <td>81780</td>\n      <td>18</td>\n    </tr>\n    <tr>\n      <th>...</th>\n      <td>...</td>\n      <td>...</td>\n      <td>...</td>\n      <td>...</td>\n    </tr>\n    <tr>\n      <th>445</th>\n      <td>9740488</td>\n      <td>C</td>\n      <td>25580</td>\n      <td>28</td>\n    </tr>\n    <tr>\n      <th>446</th>\n      <td>9740488</td>\n      <td>E</td>\n      <td>10883</td>\n      <td>3</td>\n    </tr>\n    <tr>\n      <th>447</th>\n      <td>9740488</td>\n      <td>A</td>\n      <td>83854</td>\n      <td>4</td>\n    </tr>\n    <tr>\n      <th>448</th>\n      <td>9740488</td>\n      <td>D</td>\n      <td>27106</td>\n      <td>1</td>\n    </tr>\n    <tr>\n      <th>449</th>\n      <td>9740488</td>\n      <td>E</td>\n      <td>26581</td>\n      <td>27</td>\n    </tr>\n  </tbody>\n</table>\n<p>450 rows × 4 columns</p>\n</div>"
     },
     "metadata": {},
     "execution_count": 84
    }
   ],
   "source": [
    "def get_question_student(students, inep_questions, conn):\n",
    "    \"\"\"\n",
    "    Returns a dataframe with questions answered by a student\n",
    "    Needs a student id and a connection to the db\n",
    "    \"\"\"\n",
    "    q = f\"\"\"\n",
    "    SELECT student_id, letter, inep_code, skill_id\n",
    "    FROM enem_questionstudent\n",
    "        JOIN enem_question\n",
    "        ON enem_question.id = enem_questionstudent.question_id\n",
    "    WHERE student_id IN {tuple(students)} AND inep_code IN {tuple(inep_questions)}\n",
    "    ORDER BY student_id ASC, RANDOM();\n",
    "    \"\"\"\n",
    "    return pd.read_sql_query(q, conn)\n",
    "stu = get_question_student(students, inep_questions, conn)\n",
    "stu"
   ]
  },
  {
   "cell_type": "code",
   "execution_count": 85,
   "metadata": {},
   "outputs": [],
   "source": [
    "def correct(x, answers):\n",
    "    \"\"\"\n",
    "    given that a 'questions' answer key is defined, it checks wether a student's answer is correct\n",
    "    \"\"\"\n",
    "    return 1 if x[1] == answers.loc[x[2], \"correct\"] else 0"
   ]
  },
  {
   "cell_type": "code",
   "execution_count": 86,
   "metadata": {},
   "outputs": [
    {
     "output_type": "execute_result",
     "data": {
      "text/plain": "     student_id letter  inep_code  skill_id  correct\n0       1366864      B      18231        14        0\n1       1366864      B      76032        23        1\n2       1366864      E       8757        19        1\n3       1366864      A      23921         7        1\n4       1366864      C      81780        18        1\n..          ...    ...        ...       ...      ...\n445     9740488      C      25580        28        0\n446     9740488      E      10883         3        1\n447     9740488      A      83854         4        1\n448     9740488      D      27106         1        1\n449     9740488      E      26581        27        0\n\n[450 rows x 5 columns]",
      "text/html": "<div>\n<style scoped>\n    .dataframe tbody tr th:only-of-type {\n        vertical-align: middle;\n    }\n\n    .dataframe tbody tr th {\n        vertical-align: top;\n    }\n\n    .dataframe thead th {\n        text-align: right;\n    }\n</style>\n<table border=\"1\" class=\"dataframe\">\n  <thead>\n    <tr style=\"text-align: right;\">\n      <th></th>\n      <th>student_id</th>\n      <th>letter</th>\n      <th>inep_code</th>\n      <th>skill_id</th>\n      <th>correct</th>\n    </tr>\n  </thead>\n  <tbody>\n    <tr>\n      <th>0</th>\n      <td>1366864</td>\n      <td>B</td>\n      <td>18231</td>\n      <td>14</td>\n      <td>0</td>\n    </tr>\n    <tr>\n      <th>1</th>\n      <td>1366864</td>\n      <td>B</td>\n      <td>76032</td>\n      <td>23</td>\n      <td>1</td>\n    </tr>\n    <tr>\n      <th>2</th>\n      <td>1366864</td>\n      <td>E</td>\n      <td>8757</td>\n      <td>19</td>\n      <td>1</td>\n    </tr>\n    <tr>\n      <th>3</th>\n      <td>1366864</td>\n      <td>A</td>\n      <td>23921</td>\n      <td>7</td>\n      <td>1</td>\n    </tr>\n    <tr>\n      <th>4</th>\n      <td>1366864</td>\n      <td>C</td>\n      <td>81780</td>\n      <td>18</td>\n      <td>1</td>\n    </tr>\n    <tr>\n      <th>...</th>\n      <td>...</td>\n      <td>...</td>\n      <td>...</td>\n      <td>...</td>\n      <td>...</td>\n    </tr>\n    <tr>\n      <th>445</th>\n      <td>9740488</td>\n      <td>C</td>\n      <td>25580</td>\n      <td>28</td>\n      <td>0</td>\n    </tr>\n    <tr>\n      <th>446</th>\n      <td>9740488</td>\n      <td>E</td>\n      <td>10883</td>\n      <td>3</td>\n      <td>1</td>\n    </tr>\n    <tr>\n      <th>447</th>\n      <td>9740488</td>\n      <td>A</td>\n      <td>83854</td>\n      <td>4</td>\n      <td>1</td>\n    </tr>\n    <tr>\n      <th>448</th>\n      <td>9740488</td>\n      <td>D</td>\n      <td>27106</td>\n      <td>1</td>\n      <td>1</td>\n    </tr>\n    <tr>\n      <th>449</th>\n      <td>9740488</td>\n      <td>E</td>\n      <td>26581</td>\n      <td>27</td>\n      <td>0</td>\n    </tr>\n  </tbody>\n</table>\n<p>450 rows × 5 columns</p>\n</div>"
     },
     "metadata": {},
     "execution_count": 86
    }
   ],
   "source": [
    "stu[\"correct\"] = stu.apply(correct, axis=1, args=(answers,))\n",
    "stu"
   ]
  },
  {
   "cell_type": "code",
   "execution_count": 92,
   "metadata": {},
   "outputs": [
    {
     "output_type": "execute_result",
     "data": {
      "text/plain": "correct      D\nskill_id    28\nName: 25580, dtype: object"
     },
     "metadata": {},
     "execution_count": 92
    }
   ],
   "source": [
    "answers.loc[25580]"
   ]
  }
 ],
 "metadata": {
  "kernelspec": {
   "display_name": "Python 3",
   "language": "python",
   "name": "python3"
  },
  "language_info": {
   "codemirror_mode": {
    "name": "ipython",
    "version": 3
   },
   "file_extension": ".py",
   "mimetype": "text/x-python",
   "name": "python",
   "nbconvert_exporter": "python",
   "pygments_lexer": "ipython3",
   "version": "3.7.3-final"
  }
 },
 "nbformat": 4,
 "nbformat_minor": 4
}